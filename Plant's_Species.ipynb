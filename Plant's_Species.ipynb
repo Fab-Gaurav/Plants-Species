{
  "nbformat": 4,
  "nbformat_minor": 0,
  "metadata": {
    "colab": {
      "name": "Plant's Species.ipynb",
      "provenance": [],
      "collapsed_sections": [],
      "authorship_tag": "ABX9TyPSWp757SrXk93XQimTSjov",
      "include_colab_link": true
    },
    "kernelspec": {
      "name": "python3",
      "display_name": "Python 3"
    }
  },
  "cells": [
    {
      "cell_type": "markdown",
      "metadata": {
        "id": "view-in-github",
        "colab_type": "text"
      },
      "source": [
        "<a href=\"https://colab.research.google.com/github/Fab-Gaurav/Plants-Species/blob/main/Plant's_Species.ipynb\" target=\"_parent\"><img src=\"https://colab.research.google.com/assets/colab-badge.svg\" alt=\"Open In Colab\"/></a>"
      ]
    },
    {
      "cell_type": "markdown",
      "metadata": {
        "id": "6LK5gS_6nYag"
      },
      "source": [
        "##**Importing Libraries**"
      ]
    },
    {
      "cell_type": "markdown",
      "metadata": {
        "id": "mk1CLgUDns4i"
      },
      "source": [
        "Starting with importing some of the Libraries been using in this:"
      ]
    },
    {
      "cell_type": "code",
      "metadata": {
        "id": "1bvIcc66oEbn"
      },
      "source": [
        "import pandas as ps\r\n",
        "import numpy as np"
      ],
      "execution_count": null,
      "outputs": []
    },
    {
      "cell_type": "markdown",
      "metadata": {
        "id": "Z7I9jLFdoUZG"
      },
      "source": [
        "##**Exploring the Data**"
      ]
    },
    {
      "cell_type": "markdown",
      "metadata": {
        "id": "kkMTiW7HpCF9"
      },
      "source": [
        "I am using **IRIS** the classical dataset in machine learning and statistics.\r\n",
        "It is included in scikit-learn in the datasets module and we can load it by calling the load_iris function."
      ]
    },
    {
      "cell_type": "code",
      "metadata": {
        "id": "o12qbOd9rOqY"
      },
      "source": [
        "from sklearn.datasets import load_iris\r\n",
        "iris_dataset = load_iris()"
      ],
      "execution_count": null,
      "outputs": []
    },
    {
      "cell_type": "markdown",
      "metadata": {
        "id": "srFPe5DArgtg"
      },
      "source": [
        "The iris object that is returned by load\r\n",
        "\r\n",
        "-iris is a Bunch object, which is very simple to adictionary. It contains keys and values :"
      ]
    },
    {
      "cell_type": "code",
      "metadata": {
        "colab": {
          "base_uri": "https://localhost:8080/"
        },
        "id": "ujftO90Pr-SN",
        "outputId": "3ac76633-664d-4db0-e2cd-5f6dc6ddc775"
      },
      "source": [
        "print(\"Keys of iris_dataset: \\n{}\".format(iris_dataset.keys()))"
      ],
      "execution_count": null,
      "outputs": [
        {
          "output_type": "stream",
          "text": [
            "Keys of iris_dataset: \n",
            "dict_keys(['data', 'target', 'target_names', 'DESCR', 'feature_names', 'filename'])\n"
          ],
          "name": "stdout"
        }
      ]
    },
    {
      "cell_type": "markdown",
      "metadata": {
        "id": "P-oChgTyu06U"
      },
      "source": [
        "Accessing the values present at a particular point(**DESCR**)"
      ]
    },
    {
      "cell_type": "code",
      "metadata": {
        "colab": {
          "base_uri": "https://localhost:8080/"
        },
        "id": "x0M4_FomuaVz",
        "outputId": "4909be05-691d-4bf7-d57a-3d9e9901549a"
      },
      "source": [
        "print(iris_dataset['DESCR'][:193] + \"\\n......\")"
      ],
      "execution_count": null,
      "outputs": [
        {
          "output_type": "stream",
          "text": [
            ".. _iris_dataset:\n",
            "\n",
            "Iris plants dataset\n",
            "--------------------\n",
            "\n",
            "**Data Set Characteristics:**\n",
            "\n",
            "    :Number of Instances: 150 (50 in each of three classes)\n",
            "    :Number of Attributes: 4 numeric, pre\n",
            "......\n"
          ],
          "name": "stdout"
        }
      ]
    },
    {
      "cell_type": "markdown",
      "metadata": {
        "id": "DYx4TmwVvTcO"
      },
      "source": [
        "Moving onto the \"**target_name**\" which contains the species of flower that we want to predict and the values present over it."
      ]
    },
    {
      "cell_type": "code",
      "metadata": {
        "colab": {
          "base_uri": "https://localhost:8080/"
        },
        "id": "Qz1JjdkPv3bA",
        "outputId": "ea78aec4-1347-41d5-bcad-520f08bc67b9"
      },
      "source": [
        "print(\"Target names: ()\".format(iris_dataset['target_names']))"
      ],
      "execution_count": null,
      "outputs": [
        {
          "output_type": "stream",
          "text": [
            "Target names: ()\n"
          ],
          "name": "stdout"
        }
      ]
    },
    {
      "cell_type": "markdown",
      "metadata": {
        "id": "HLEsVY28wzw4"
      },
      "source": [
        "Moving onto the \"**feature_name**\" which gives the description of each feature it includes the 'sepal length'(cms)."
      ]
    },
    {
      "cell_type": "code",
      "metadata": {
        "colab": {
          "base_uri": "https://localhost:8080/"
        },
        "id": "jY0NGVY0xV7y",
        "outputId": "32eab9df-9709-47d2-fee8-9c168f23a5ce"
      },
      "source": [
        "print(\"Feature names: \\n{}\".format(iris_dataset['feature_names']))"
      ],
      "execution_count": null,
      "outputs": [
        {
          "output_type": "stream",
          "text": [
            "Feature names: \n",
            "['sepal length (cm)', 'sepal width (cm)', 'petal length (cm)', 'petal width (cm)']\n"
          ],
          "name": "stdout"
        }
      ]
    },
    {
      "cell_type": "markdown",
      "metadata": {
        "id": "LBLte7cZy7Wf"
      },
      "source": [
        "Extracting the data in NumPy array:"
      ]
    },
    {
      "cell_type": "code",
      "metadata": {
        "colab": {
          "base_uri": "https://localhost:8080/"
        },
        "id": "XBx0uR9LyJCT",
        "outputId": "9fb07617-6fb2-461a-f375-0c868f06e846"
      },
      "source": [
        "print(\"Type of data: {}\".format(type(iris_dataset['data'])))"
      ],
      "execution_count": null,
      "outputs": [
        {
          "output_type": "stream",
          "text": [
            "Type of data: <class 'numpy.ndarray'>\n"
          ],
          "name": "stdout"
        }
      ]
    },
    {
      "cell_type": "markdown",
      "metadata": {
        "id": "TSZqM0DfyCEO"
      },
      "source": [
        "Four measurement value taken for each flower using \"shape\" :"
      ]
    },
    {
      "cell_type": "code",
      "metadata": {
        "colab": {
          "base_uri": "https://localhost:8080/"
        },
        "id": "mquzyI6yzSGP",
        "outputId": "86b60edf-a19f-4c3d-ae7e-a07a9f730dd8"
      },
      "source": [
        "print(\"Shape of data: {}\".format(iris_dataset['data'].shape))"
      ],
      "execution_count": null,
      "outputs": [
        {
          "output_type": "stream",
          "text": [
            "Shape of data: (150, 4)\n"
          ],
          "name": "stdout"
        }
      ]
    },
    {
      "cell_type": "markdown",
      "metadata": {
        "id": "tNPJ3w62zjkq"
      },
      "source": [
        "Features value of first five samples :"
      ]
    },
    {
      "cell_type": "code",
      "metadata": {
        "colab": {
          "base_uri": "https://localhost:8080/"
        },
        "id": "KIQKGjO1z3y0",
        "outputId": "cb4d9013-7fc0-4f26-9cff-d1296ac72d92"
      },
      "source": [
        "print(\"First five columns of the data:\\n{}\".format(iris_dataset['data'][:5]))"
      ],
      "execution_count": null,
      "outputs": [
        {
          "output_type": "stream",
          "text": [
            "First five columns of the data:\n",
            "[[5.1 3.5 1.4 0.2]\n",
            " [4.9 3.  1.4 0.2]\n",
            " [4.7 3.2 1.3 0.2]\n",
            " [4.6 3.1 1.5 0.2]\n",
            " [5.  3.6 1.4 0.2]]\n"
          ],
          "name": "stdout"
        }
      ]
    },
    {
      "cell_type": "markdown",
      "metadata": {
        "id": "K2qYHh0802U6"
      },
      "source": [
        "Now we get to know which column represent which feature."
      ]
    },
    {
      "cell_type": "markdown",
      "metadata": {
        "id": "UgAZeMHG1DaU"
      },
      "source": [
        "Moving onto the last key ie. \"**target key**\" that contains the species of each flowers that were measured as NumPy array."
      ]
    },
    {
      "cell_type": "code",
      "metadata": {
        "colab": {
          "base_uri": "https://localhost:8080/"
        },
        "id": "SlCgSyPU1jZ1",
        "outputId": "ff116102-e43f-4032-d29f-afb388289e3b"
      },
      "source": [
        "print(\"Type of target: {}\".format(type(iris_dataset['target'])))"
      ],
      "execution_count": null,
      "outputs": [
        {
          "output_type": "stream",
          "text": [
            "Type of target: <class 'numpy.ndarray'>\n"
          ],
          "name": "stdout"
        }
      ]
    },
    {
      "cell_type": "markdown",
      "metadata": {
        "id": "B7Dudk_d2e0c"
      },
      "source": [
        "Getting the shape of the \"target key\""
      ]
    },
    {
      "cell_type": "code",
      "metadata": {
        "colab": {
          "base_uri": "https://localhost:8080/"
        },
        "id": "OH-mZjNv2ROn",
        "outputId": "6a4d43e5-4924-4f07-a29f-5c847550e35c"
      },
      "source": [
        "print(\"Shape of target: {}\".format(iris_dataset['target'].shape))"
      ],
      "execution_count": null,
      "outputs": [
        {
          "output_type": "stream",
          "text": [
            "Shape of target: (150,)\n"
          ],
          "name": "stdout"
        }
      ]
    },
    {
      "cell_type": "markdown",
      "metadata": {
        "id": "FMXAWMwm2LpM"
      },
      "source": [
        "Entire value of the \"target array\""
      ]
    },
    {
      "cell_type": "code",
      "metadata": {
        "colab": {
          "base_uri": "https://localhost:8080/"
        },
        "id": "Jz-ImLyF25Pk",
        "outputId": "46f78e41-3da5-4f1c-aac4-71897789b585"
      },
      "source": [
        "print(\"Target:\\n{}\".format(iris_dataset['target']))"
      ],
      "execution_count": null,
      "outputs": [
        {
          "output_type": "stream",
          "text": [
            "Target:\n",
            "[0 0 0 0 0 0 0 0 0 0 0 0 0 0 0 0 0 0 0 0 0 0 0 0 0 0 0 0 0 0 0 0 0 0 0 0 0\n",
            " 0 0 0 0 0 0 0 0 0 0 0 0 0 1 1 1 1 1 1 1 1 1 1 1 1 1 1 1 1 1 1 1 1 1 1 1 1\n",
            " 1 1 1 1 1 1 1 1 1 1 1 1 1 1 1 1 1 1 1 1 1 1 1 1 1 1 2 2 2 2 2 2 2 2 2 2 2\n",
            " 2 2 2 2 2 2 2 2 2 2 2 2 2 2 2 2 2 2 2 2 2 2 2 2 2 2 2 2 2 2 2 2 2 2 2 2 2\n",
            " 2 2]\n"
          ],
          "name": "stdout"
        }
      ]
    },
    {
      "cell_type": "markdown",
      "metadata": {
        "id": "7SMIM1n03MBp"
      },
      "source": [
        "From this we get to know by the iris['target_names'] array :\r\n",
        "0 maeans sentosa,\r\n",
        "1 means versicolor and\r\n",
        "2 means virginica"
      ]
    },
    {
      "cell_type": "markdown",
      "metadata": {
        "id": "ETY8Gw7b3wRo"
      },
      "source": [
        "##**Traning and Testing Data**:\r\n",
        "Now lets see what our model had learn till now and checking the accuracy."
      ]
    },
    {
      "cell_type": "markdown",
      "metadata": {
        "id": "yRNvtQgs5NjB"
      },
      "source": [
        "Splitting the dataset into traning and testing with \"**sklearn**\" by parameters :"
      ]
    },
    {
      "cell_type": "code",
      "metadata": {
        "id": "VaEe3BRc5bfP"
      },
      "source": [
        "from sklearn.model_selection import train_test_split\r\n",
        "X_train, X_test, y_train, y_test = train_test_split(\r\n",
        "    iris_dataset['data'], iris_dataset['target'], random_state=0)"
      ],
      "execution_count": null,
      "outputs": []
    },
    {
      "cell_type": "markdown",
      "metadata": {
        "id": "L63NRB977iHb"
      },
      "source": [
        "Seeing the shape of the data :"
      ]
    },
    {
      "cell_type": "code",
      "metadata": {
        "colab": {
          "base_uri": "https://localhost:8080/"
        },
        "id": "TM7R-bXQ9aS0",
        "outputId": "b40441e3-c904-4b18-bb7f-d7da10353815"
      },
      "source": [
        "print(\"X_train shape: {}\".format(X_train.shape))\r\n",
        "print(\"y_train shape: {}\".format(y_train.shape))\r\n",
        "print(\"X_test shape: {}\".format(X_test.shape))\r\n",
        "print(\"y_test shape: {}\".format(y_test.shape))"
      ],
      "execution_count": null,
      "outputs": [
        {
          "output_type": "stream",
          "text": [
            "X_train shape: (112, 4)\n",
            "y_train shape: (112,)\n",
            "X_test shape: (38, 4)\n",
            "y_test shape: (38,)\n"
          ],
          "name": "stdout"
        }
      ]
    },
    {
      "cell_type": "markdown",
      "metadata": {
        "id": "I1jQYicX9zTr"
      },
      "source": [
        "##**Inspecting the Data**:"
      ]
    },
    {
      "cell_type": "markdown",
      "metadata": {
        "id": "VRXwNlbVBYQI"
      },
      "source": [
        "K-Neighbors Classifier Model"
      ]
    },
    {
      "cell_type": "code",
      "metadata": {
        "id": "IlruvSVrBoH2"
      },
      "source": [
        "from sklearn.neighbors import KNeighborsClassifier\r\n",
        "knn = KNeighborsClassifier(n_neighbors=1)"
      ],
      "execution_count": null,
      "outputs": []
    },
    {
      "cell_type": "markdown",
      "metadata": {
        "id": "6F73OmF5CX7e"
      },
      "source": [
        "Training the model using \"**fit**\" :"
      ]
    },
    {
      "cell_type": "code",
      "metadata": {
        "colab": {
          "base_uri": "https://localhost:8080/"
        },
        "id": "Jv_XmaZUCjY6",
        "outputId": "e98b90bd-0765-43b6-97a2-eb2446635df5"
      },
      "source": [
        "knn.fit(X_train, y_train)"
      ],
      "execution_count": null,
      "outputs": [
        {
          "output_type": "execute_result",
          "data": {
            "text/plain": [
              "KNeighborsClassifier(algorithm='auto', leaf_size=30, metric='minkowski',\n",
              "                     metric_params=None, n_jobs=None, n_neighbors=1, p=2,\n",
              "                     weights='uniform')"
            ]
          },
          "metadata": {
            "tags": []
          },
          "execution_count": 24
        }
      ]
    },
    {
      "cell_type": "markdown",
      "metadata": {
        "id": "fy2cvALlCzWR"
      },
      "source": [
        "##**Making Predictions**"
      ]
    },
    {
      "cell_type": "markdown",
      "metadata": {
        "id": "j-iczXj5Dmbj"
      },
      "source": [
        "Testing the model at a particular data point :"
      ]
    },
    {
      "cell_type": "code",
      "metadata": {
        "colab": {
          "base_uri": "https://localhost:8080/"
        },
        "id": "31BReolpC5el",
        "outputId": "a4c3f7c0-02bb-4118-afe2-539878aecba1"
      },
      "source": [
        "X_new = np.array([[5, 2.9, 1, 0.2]])\r\n",
        "print(\"X_new.shape: {}\".format(X_new.shape))"
      ],
      "execution_count": null,
      "outputs": [
        {
          "output_type": "stream",
          "text": [
            "X_new.shape: (1, 4)\n"
          ],
          "name": "stdout"
        }
      ]
    },
    {
      "cell_type": "markdown",
      "metadata": {
        "id": "D0uNw90JCzNv"
      },
      "source": [
        "Making prediction by calling the predict method of knn obkect :"
      ]
    },
    {
      "cell_type": "code",
      "metadata": {
        "colab": {
          "base_uri": "https://localhost:8080/"
        },
        "id": "eNNh9O1LEbO_",
        "outputId": "6318ad25-b54c-4bea-9cde-73d592e8a354"
      },
      "source": [
        "prediction = knn.predict(X_new)\r\n",
        "\r\n",
        "print(\"Prediction: {}\".format(prediction))\r\n",
        "print(\"Predicted target name: {}\".format(\r\n",
        "iris_dataset['target_names'][prediction]))"
      ],
      "execution_count": null,
      "outputs": [
        {
          "output_type": "stream",
          "text": [
            "Prediction: [0]\n",
            "Predicted target name: ['setosa']\n"
          ],
          "name": "stdout"
        }
      ]
    },
    {
      "cell_type": "markdown",
      "metadata": {
        "id": "IjsgHwxVFauy"
      },
      "source": [
        "##**Evaluating the Model**"
      ]
    },
    {
      "cell_type": "markdown",
      "metadata": {
        "id": "XEuBNDvFFseU"
      },
      "source": [
        "Testing the model on the test dataset :"
      ]
    },
    {
      "cell_type": "code",
      "metadata": {
        "colab": {
          "base_uri": "https://localhost:8080/"
        },
        "id": "4pSZ5ioWFxMG",
        "outputId": "17ae1fd3-7819-4834-af3d-f1f649db1585"
      },
      "source": [
        "y_pred = knn.predict(X_test)\r\n",
        "print(\"Test set predictions:\\n {}\".format(y_pred))"
      ],
      "execution_count": null,
      "outputs": [
        {
          "output_type": "stream",
          "text": [
            "Test set predictions:\n",
            " [2 1 0 2 0 2 0 1 1 1 2 1 1 1 1 0 1 1 0 0 2 1 0 0 2 0 0 1 1 0 2 1 0 2 2 1 0\n",
            " 2]\n"
          ],
          "name": "stdout"
        }
      ]
    },
    {
      "cell_type": "markdown",
      "metadata": {
        "id": "wLeFWYXBGPPP"
      },
      "source": [
        "Checking wheather the actual prediction value correct or not :"
      ]
    },
    {
      "cell_type": "code",
      "metadata": {
        "colab": {
          "base_uri": "https://localhost:8080/"
        },
        "id": "iCPWcujvGZ8j",
        "outputId": "2056ffab-187b-4bac-a073-5279ca2a585d"
      },
      "source": [
        "print(\"Test set score: {}\".format(np.mean(y_pred == y_test)))"
      ],
      "execution_count": null,
      "outputs": [
        {
          "output_type": "stream",
          "text": [
            "Test set score: 0.9736842105263158\n"
          ],
          "name": "stdout"
        }
      ]
    }
  ]
}